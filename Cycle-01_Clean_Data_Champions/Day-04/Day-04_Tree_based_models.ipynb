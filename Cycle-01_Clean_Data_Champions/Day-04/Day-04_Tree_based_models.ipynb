{
 "cells": [
  {
   "cell_type": "code",
   "execution_count": 46,
   "id": "84c5953c-705f-481b-8eb2-1535bf598aac",
   "metadata": {},
   "outputs": [],
   "source": [
    "import pandas as pd\n",
    "from sklearn.model_selection import train_test_split\n",
    "from sklearn.preprocessing import LabelEncoder, StandardScaler\n",
    "from sklearn.tree import DecisionTreeClassifier\n",
    "from sklearn.ensemble import RandomForestClassifier\n",
    "from sklearn.neighbors import KNeighborsClassifier\n",
    "from sklearn.metrics import accuracy_score"
   ]
  },
  {
   "cell_type": "code",
   "execution_count": 47,
   "id": "0e1757b8-02dd-4356-90c1-da6089b2b5e2",
   "metadata": {},
   "outputs": [],
   "source": [
    "df= pd.read_csv(r\"C:\\Users\\kandu\\Downloads\\mental_health_workplace_survey.csv\") ##file"
   ]
  },
  {
   "cell_type": "code",
   "execution_count": 48,
   "id": "898dc943-bd96-406e-bdf0-3cf22617f153",
   "metadata": {},
   "outputs": [],
   "source": [
    "for col in df.select_dtypes(include=['object']).columns:##converting the text featurs into numerical columns.\n",
    "    df[col] = LabelEncoder().fit_transform(df[col])"
   ]
  },
  {
   "cell_type": "code",
   "execution_count": 49,
   "id": "5ab539d5-30db-47bc-9aca-282367a76f4c",
   "metadata": {},
   "outputs": [],
   "source": [
    "X = df.drop(['BurnoutRisk', 'EmployeeID'], axis=1)\n",
    "y = df['BurnoutRisk']\n",
    "feature_names = X.columns\n",
    "X_train, X_test, y_train, y_test = train_test_split(features, target, test_size=0.2, random_state=42)\n",
    "scaler = StandardScaler()\n",
    "X_train_scaled = scaler.fit_transform(X_train)\n",
    "X_test_scaled = scaler.transform(X_test)"
   ]
  },
  {
   "cell_type": "code",
   "execution_count": 50,
   "id": "2ed2e09f-c8ee-49a1-8d99-3b2f141ffe76",
   "metadata": {},
   "outputs": [],
   "source": [
    "##training all features.\n",
    "rf_full = RandomForestClassifier(random_state=42).fit(X_train, y_train)\n",
    "dt_full = DecisionTreeClassifier(random_state=42).fit(X_train, y_train)\n",
    "knn_full = KNeighborsClassifier().fit(X_train_scaled, y_train)"
   ]
  },
  {
   "cell_type": "code",
   "execution_count": 51,
   "id": "6b51138d-d57e-4470-ae87-f378c138ac89",
   "metadata": {},
   "outputs": [
    {
     "name": "stdout",
     "output_type": "stream",
     "text": [
      "\n",
      "Top 3 features: ['BurnoutLevel', 'ProductivityScore', 'StressLevel']\n"
     ]
    }
   ],
   "source": [
    "##top 3 features.\n",
    "importances = rf_full.feature_importances_\n",
    "top_3_features = pd.Series(importances, index=feature_names).nlargest(3).index.tolist()\n",
    "print(f\"\\nTop 3 features: {top_3_features}\")"
   ]
  },
  {
   "cell_type": "code",
   "execution_count": 52,
   "id": "63576af5-b8c9-49cc-a138-a089c6b9362b",
   "metadata": {},
   "outputs": [],
   "source": [
    "X_top3 = X[top_3_features]\n",
    "X_train_top3, X_test_top3, y_train_top3, y_test_top3 = train_test_split(X_top3, y, test_size=0.2, random_state=42)\n",
    "scaler_top3 = StandardScaler()\n",
    "X_train_top3_scaled = scaler_top3.fit_transform(X_train_top3)\n",
    "X_test_top3_scaled = scaler_top3.transform(X_test_top3)\n",
    "#training models only on top 3 features.\n",
    "rf_top3 = RandomForestClassifier(random_state=42).fit(X_train_top3, y_train_top3)\n",
    "dt_top3 = DecisionTreeClassifier(random_state=42).fit(X_train_top3, y_train_top3)\n",
    "knn_top3 = KNeighborsClassifier().fit(X_train_top3_scaled, y_train_top3)"
   ]
  },
  {
   "cell_type": "code",
   "execution_count": 53,
   "id": "c6cbe45e-8f37-43a5-b5c1-7c4cd66c5054",
   "metadata": {},
   "outputs": [
    {
     "name": "stdout",
     "output_type": "stream",
     "text": [
      "Before vs. After Feature Selection\n",
      "        Model  Accuracy (All Features)  Accuracy (Top 3 Features)\n",
      "Decision Tree                 1.000000                   1.000000\n",
      "Random Forest                 1.000000                   1.000000\n",
      "         k-NN                 0.798333                   0.986667\n"
     ]
    }
   ],
   "source": [
    "##final comparison.\n",
    "summary = pd.DataFrame({\n",
    "    'Model': ['Decision Tree', 'Random Forest', 'k-NN'],\n",
    "    'Accuracy (All Features)': [\n",
    "        accuracy_score(y_test, dt_full.predict(X_test)),\n",
    "        accuracy_score(y_test, rf_full.predict(X_test)),\n",
    "        accuracy_score(y_test, knn_full.predict(X_test_scaled))\n",
    "    ],\n",
    "    'Accuracy (Top 3 Features)': [\n",
    "        accuracy_score(y_test_top3, dt_top3.predict(X_test_top3)),\n",
    "        accuracy_score(y_test_top3, rf_top3.predict(X_test_top3)),\n",
    "        accuracy_score(y_test_top3, knn_top3.predict(X_test_top3_scaled))\n",
    "    ]\n",
    "})\n",
    "\n",
    "print(\"Before vs. After Feature Selection\")\n",
    "print(summary.to_string(index=False))"
   ]
  },
  {
   "cell_type": "code",
   "execution_count": null,
   "id": "b3a21769-c1d2-4b7f-8487-f13a05b22e83",
   "metadata": {},
   "outputs": [],
   "source": []
  }
 ],
 "metadata": {
  "kernelspec": {
   "display_name": "Python 3 (ipykernel)",
   "language": "python",
   "name": "python3"
  },
  "language_info": {
   "codemirror_mode": {
    "name": "ipython",
    "version": 3
   },
   "file_extension": ".py",
   "mimetype": "text/x-python",
   "name": "python",
   "nbconvert_exporter": "python",
   "pygments_lexer": "ipython3",
   "version": "3.12.5"
  }
 },
 "nbformat": 4,
 "nbformat_minor": 5
}
