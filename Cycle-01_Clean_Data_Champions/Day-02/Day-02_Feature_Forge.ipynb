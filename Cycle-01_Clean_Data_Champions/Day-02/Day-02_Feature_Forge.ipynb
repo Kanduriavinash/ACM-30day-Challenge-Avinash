{
 "cells": [
  {
   "cell_type": "code",
   "execution_count": 1,
   "id": "65e23426-c4aa-4ff4-a74d-f883985bf7cb",
   "metadata": {},
   "outputs": [],
   "source": [
    "import pandas as pd\n",
    "import numpy as np\n",
    "from sklearn.model_selection import train_test_split\n",
    "from sklearn.preprocessing import LabelEncoder, StandardScaler\n",
    "from sklearn.linear_model import LinearRegression, Ridge, Lasso\n",
    "from sklearn.metrics import mean_squared_error, r2_score"
   ]
  },
  {
   "cell_type": "code",
   "execution_count": 5,
   "id": "40e51ce3-da8d-4376-8e97-3610605d1f64",
   "metadata": {},
   "outputs": [],
   "source": [
    "df=pd.read_csv(r\"C:\\Users\\kandu\\Downloads\\mental_health_workplace_survey.csv\")##loading the data file"
   ]
  },
  {
   "cell_type": "code",
   "execution_count": 6,
   "id": "eedf704d-69b5-488d-98be-e24efb6a2142",
   "metadata": {},
   "outputs": [],
   "source": [
    "##Encoding.\n",
    "text_columns = df.select_dtypes(include=['object']).columns\n",
    "for col in text_columns:##converting all text-columns into numbers format.\n",
    "    df[col] = LabelEncoder().fit_transform(df[col].astype(str))"
   ]
  },
  {
   "cell_type": "code",
   "execution_count": 12,
   "id": "51826f86-b294-4527-979c-5c7a3fb36363",
   "metadata": {},
   "outputs": [
    {
     "name": "stdout",
     "output_type": "stream",
     "text": [
      "19\n"
     ]
    }
   ],
   "source": [
    "##Feature Selection\n",
    "correlation_matrix = df.corr()['StressLevel']\n",
    "final_features = correlation_matrix[abs(correlation_matrix) > 0.01].index.drop('StressLevel').tolist() ##selcting the features which are greater than 0.01 of correlation.\n",
    "print(len(final_features))"
   ]
  },
  {
   "cell_type": "code",
   "execution_count": 15,
   "id": "614bdfbc-6dbe-48df-a61f-51bbc0bc4b6a",
   "metadata": {},
   "outputs": [],
   "source": [
    "df['Stress_x_WorkHours'] = df['StressLevel'] * df['WorkHoursPerWeek']\n",
    "df['Sleep_to_Stress_Ratio'] = df['SleepHours'] / (df['StressLevel'] + 1e-5)\n",
    "final_features.extend(['Stress_x_WorkHours', 'Sleep_to_Stress_Ratio'])"
   ]
  },
  {
   "cell_type": "code",
   "execution_count": 16,
   "id": "29e63038-2e6e-49b3-9747-25d2de3e31c4",
   "metadata": {},
   "outputs": [],
   "source": [
    "X = df[final_features]##defining the data.\n",
    "y = df['StressLevel']\n",
    "X_train, X_test, y_train, y_test = train_test_split(X, y, test_size=0.2, random_state=5)##splitting the data.\n",
    "scaler = StandardScaler()##standaizing the features.\n",
    "X_train_scaled = scaler.fit_transform(X_train)\n",
    "X_test_scaled = scaler.transform(X_test)"
   ]
  },
  {
   "cell_type": "code",
   "execution_count": 20,
   "id": "491c6700-ed31-4ff7-8fb1-33c44c1088df",
   "metadata": {},
   "outputs": [
    {
     "name": "stdout",
     "output_type": "stream",
     "text": [
      "  - Standard Linear:\n",
      "    Mean Squared Error (MSE): 0.52\n",
      "    R-squared (R²) Score: 0.93\n",
      "  - Ridge Regularization:\n",
      "    Mean Squared Error (MSE): 0.83\n",
      "    R-squared (R²) Score: 0.88\n",
      "  - Lasso Regularization:\n",
      "    Mean Squared Error (MSE): 2.17\n",
      "    R-squared (R²) Score: 0.70\n"
     ]
    }
   ],
   "source": [
    "##testing 3 types of linear regression models to see which is best.\n",
    "models_to_test = { 'Standard Linear': LinearRegression(),\n",
    "                   'Ridge Regularization': Ridge(),'Lasso Regularization': Lasso() }\n",
    "for name, model in models_to_test.items():##loop for each model,trains it and evaluates its performance.\n",
    "    model.fit(X_train_scaled, y_train)\n",
    "    predictions = model.predict(X_test_scaled)\n",
    "    ##For MSE the lower is the better model and for R**2 the higher is better.\n",
    "    mse = mean_squared_error(y_test, predictions)\n",
    "    r2 = r2_score(y_test, predictions)\n",
    "    print(f\"  - {name}:\")\n",
    "    print(f\"    Mean Squared Error (MSE): {mse:.2f}\")\n",
    "    print(f\"    R-squared (R²) Score: {r2:.2f}\")"
   ]
  },
  {
   "cell_type": "code",
   "execution_count": null,
   "id": "e8080200-232d-430c-a589-de977fd55d93",
   "metadata": {},
   "outputs": [],
   "source": []
  }
 ],
 "metadata": {
  "kernelspec": {
   "display_name": "Python 3 (ipykernel)",
   "language": "python",
   "name": "python3"
  },
  "language_info": {
   "codemirror_mode": {
    "name": "ipython",
    "version": 3
   },
   "file_extension": ".py",
   "mimetype": "text/x-python",
   "name": "python",
   "nbconvert_exporter": "python",
   "pygments_lexer": "ipython3",
   "version": "3.12.5"
  }
 },
 "nbformat": 4,
 "nbformat_minor": 5
}
